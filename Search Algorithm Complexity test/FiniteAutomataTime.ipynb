{
 "cells": [
  {
   "cell_type": "code",
   "execution_count": 10,
   "metadata": {},
   "outputs": [
    {
     "name": "stderr",
     "output_type": "stream",
     "text": [
      "C:\\ProgramData\\Anaconda3\\lib\\site-packages\\ipykernel_launcher.py:79: DeprecationWarning: time.clock has been deprecated in Python 3.3 and will be removed from Python 3.8: use time.perf_counter or time.process_time instead\n"
     ]
    },
    {
     "name": "stdout",
     "output_type": "stream",
     "text": [
      "Pattern found at index: 6\n",
      "513.2728953\n",
      "513.8064506\n",
      "0.5335552999999891\n"
     ]
    },
    {
     "name": "stderr",
     "output_type": "stream",
     "text": [
      "C:\\ProgramData\\Anaconda3\\lib\\site-packages\\ipykernel_launcher.py:81: DeprecationWarning: time.clock has been deprecated in Python 3.3 and will be removed from Python 3.8: use time.perf_counter or time.process_time instead\n"
     ]
    }
   ],
   "source": [
    "import time \n",
    "import matplotlib.pyplot as plt\n",
    "NO_OF_CHARS = 100000\n",
    "  \n",
    "def getNextState(pat, M, state, x): \n",
    "    ''' \n",
    "    calculate the next state  \n",
    "    '''\n",
    "  \n",
    "    # If the character c is same as next character  \n",
    "      # in pattern, then simply increment state \n",
    "  \n",
    "    if state < M and x == ord(pat[state]): \n",
    "        return state+1\n",
    "  \n",
    "    i=0\n",
    "    # ns stores the result which is next state \n",
    "  \n",
    "    # ns finally contains the longest prefix  \n",
    "     # which is also suffix in \"pat[0..state-1]c\" \n",
    "  \n",
    "     # Start from the largest possible value and  \n",
    "      # stop when you find a prefix which is also suffix \n",
    "    for ns in range(state,0,-1): \n",
    "        if ord(pat[ns-1]) == x: \n",
    "            while(i<ns-1): \n",
    "                if pat[i] != pat[state-ns+1+i]: \n",
    "                    break\n",
    "                i+=1\n",
    "            if i == ns-1: \n",
    "                return ns  \n",
    "    return 0\n",
    "  \n",
    "def computeTF(pat, M): \n",
    "    ''' \n",
    "    This function builds the TF table which  \n",
    "    represents Finite Automata for a given pattern \n",
    "    '''\n",
    "    global NO_OF_CHARS \n",
    "  \n",
    "    TF = [[0 for i in range(NO_OF_CHARS)]\n",
    "          for _ in range(M+1)] \n",
    "  \n",
    "    for state in range(M+1): \n",
    "        for x in range(NO_OF_CHARS): \n",
    "            z = getNextState(pat, M, state, x) \n",
    "            TF[state][x] = z \n",
    "  \n",
    "    return TF \n",
    "  \n",
    "def search(pat, txt): \n",
    "    ''' \n",
    "    Prints all occurrences of pat in txt \n",
    "    '''\n",
    "    global NO_OF_CHARS \n",
    "    M = len(pat) \n",
    "    N = len(txt) \n",
    "    TF = computeTF(pat, M)     \n",
    "  \n",
    "    # Process txt over FA. \n",
    "    state=0\n",
    "    for i in range(N): \n",
    "        state = TF[state][ord(txt[i])] \n",
    "        if state == M: \n",
    "            print(\"Pattern found at index: {}\". \n",
    "                   format(i-M+1)) \n",
    "            \n",
    "\n",
    "   \n",
    "  \n",
    "# Driver program to test above function             \n",
    "def main(): \n",
    "    txt = \"অ  ংক অংশঅগ্নিকেতু [তু]\"\n",
    "    pat = \"অংশ\"\n",
    "    \n",
    "    search(pat, txt) \n",
    "  \n",
    "if __name__ == '__main__': \n",
    "    start = time.clock()\n",
    "    main() \n",
    "    end = time.clock() \n",
    "    print(start)\n",
    "    print(end)\n",
    "    print(end-start)"
   ]
  },
  {
   "cell_type": "code",
   "execution_count": null,
   "metadata": {},
   "outputs": [],
   "source": []
  },
  {
   "cell_type": "code",
   "execution_count": null,
   "metadata": {},
   "outputs": [],
   "source": []
  }
 ],
 "metadata": {
  "kernelspec": {
   "display_name": "Python 3",
   "language": "python",
   "name": "python3"
  },
  "language_info": {
   "codemirror_mode": {
    "name": "ipython",
    "version": 3
   },
   "file_extension": ".py",
   "mimetype": "text/x-python",
   "name": "python",
   "nbconvert_exporter": "python",
   "pygments_lexer": "ipython3",
   "version": "3.7.1"
  }
 },
 "nbformat": 4,
 "nbformat_minor": 2
}
