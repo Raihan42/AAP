{
 "cells": [
  {
   "cell_type": "code",
   "execution_count": 1,
   "metadata": {},
   "outputs": [
    {
     "name": "stderr",
     "output_type": "stream",
     "text": [
      "C:\\ProgramData\\Anaconda3\\lib\\site-packages\\ipykernel_launcher.py:68: DeprecationWarning: time.clock has been deprecated in Python 3.3 and will be removed from Python 3.8: use time.perf_counter or time.process_time instead\n",
      "C:\\ProgramData\\Anaconda3\\lib\\site-packages\\ipykernel_launcher.py:70: DeprecationWarning: time.clock has been deprecated in Python 3.3 and will be removed from Python 3.8: use time.perf_counter or time.process_time instead\n"
     ]
    },
    {
     "name": "stdout",
     "output_type": "stream",
     "text": [
      "114.4330663\n",
      "114.4643626\n",
      "1000 Elements Sorted by HeapSort in  0.03129630000000816\n",
      "114.4649675\n",
      "114.5227946\n",
      "2000 Elements Sorted by HeapSort in  0.057827099999997245\n",
      "114.523416\n",
      "114.6112787\n",
      "3000 Elements Sorted by HeapSort in  0.08786270000000229\n",
      "114.6118604\n",
      "114.8010085\n",
      "4000 Elements Sorted by HeapSort in  0.18914809999999704\n",
      "114.8017415\n",
      "114.9703211\n",
      "5000 Elements Sorted by HeapSort in  0.16857960000000105\n",
      "114.9709433\n",
      "115.1830333\n",
      "6000 Elements Sorted by HeapSort in  0.21209000000000344\n",
      "115.1835763\n",
      "115.4220968\n",
      "7000 Elements Sorted by HeapSort in  0.23852050000000702\n",
      "115.4227838\n",
      "115.7123953\n",
      "8000 Elements Sorted by HeapSort in  0.28961149999999236\n",
      "115.7130689\n",
      "116.0121143\n",
      "9000 Elements Sorted by HeapSort in  0.29904539999999713\n"
     ]
    },
    {
     "data": {
      "text/plain": [
       "<Figure size 640x480 with 1 Axes>"
      ]
     },
     "metadata": {},
     "output_type": "display_data"
    }
   ],
   "source": []
  },
  {
   "cell_type": "code",
   "execution_count": 3,
   "metadata": {
    "scrolled": true
   },
   "outputs": [
    {
     "name": "stdout",
     "output_type": "stream",
     "text": [
      " ছাড়া এসব নিয়োগের ক্ষেত্রে প্রার্থীর বয়সের ক্ষেত্রে সুনির্দিষ্ট নীতিমালা প্রণয়ন, নিরপেক্ষ ও প্রভাবমুক্ত ব্যক্তিদের নিয়োগের সুপারিশ করে টিআইবি\n",
      "\u001b[31m ছাড়া এসব নিয়োগের ক্ষেত্রে প্রার্থীর বয়সের ক্ষেত্রে সুনির্দিষ্ট নীতিমালা প্রণয়ন, নিরপেক্ষ ও প্রভাবমুক্ত ব্যক্তিদের নিয়োগের সুপারিশ করে টিআইবি\n",
      "10535.7978226\n",
      "10535.862671\n",
      "0.0648484000012104\n",
      "0\n"
     ]
    },
    {
     "name": "stderr",
     "output_type": "stream",
     "text": [
      "C:\\ProgramData\\Anaconda3\\lib\\site-packages\\ipykernel_launcher.py:9: DeprecationWarning: time.clock has been deprecated in Python 3.3 and will be removed from Python 3.8: use time.perf_counter or time.process_time instead\n",
      "  if __name__ == '__main__':\n",
      "C:\\ProgramData\\Anaconda3\\lib\\site-packages\\ipykernel_launcher.py:16: DeprecationWarning: time.clock has been deprecated in Python 3.3 and will be removed from Python 3.8: use time.perf_counter or time.process_time instead\n",
      "  app.launch_new_instance()\n"
     ]
    }
   ],
   "source": [
    "from colorama import Fore\n",
    "import time \n",
    "import matplotlib.pyplot as plt\n",
    "count = 0\n",
    "elements = list() \n",
    "times = list()\n",
    "each = input()\n",
    "with open (\"b.txt\",'r',encoding='utf-8') as f:\n",
    "    start = time.clock() \n",
    "    for line in f:\n",
    "        w= line.split()\n",
    "        for i in w:\n",
    "            \n",
    "            if i == each:\n",
    "                count+=1;\n",
    "    end = time.clock()      \n",
    "    if count<1:\n",
    "         print(Fore.RED + each)\n",
    "    else:\n",
    "        print(each)\n",
    "         \n",
    "\n",
    "   \n",
    "    print(start)\n",
    "    print(end)\n",
    "    print(end-start) \n",
    "    print(count)\n",
    "   \n",
    "\n",
    "    "
   ]
  },
  {
   "cell_type": "code",
   "execution_count": null,
   "metadata": {},
   "outputs": [],
   "source": []
  },
  {
   "cell_type": "code",
   "execution_count": null,
   "metadata": {},
   "outputs": [],
   "source": []
  }
 ],
 "metadata": {
  "kernelspec": {
   "display_name": "Python 3",
   "language": "python",
   "name": "python3"
  },
  "language_info": {
   "codemirror_mode": {
    "name": "ipython",
    "version": 3
   },
   "file_extension": ".py",
   "mimetype": "text/x-python",
   "name": "python",
   "nbconvert_exporter": "python",
   "pygments_lexer": "ipython3",
   "version": "3.7.1"
  }
 },
 "nbformat": 4,
 "nbformat_minor": 2
}
