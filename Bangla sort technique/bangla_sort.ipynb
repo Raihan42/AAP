{
 "cells": [
  {
   "cell_type": "code",
   "execution_count": 4,
   "metadata": {},
   "outputs": [
    {
     "name": "stdout",
     "output_type": "stream",
     "text": [
      "['অক্ষরণশীল', 'অনাবৃষ্টি', 'উপকথা', 'জলবিদ্যুৎ', 'জেনারেল', 'দুই', 'নিহত', 'ফোতো', 'ফ্লাড', 'বইমুখো', 'সড়কে', 'সামনের', 'সায়ন', 'হয়েছে', '১৩']\n"
     ]
    }
   ],
   "source": [
    "char_map = {\n",
    "    \"\\u0985\": 0,\n",
    "    \"\\u0986\": 1,\n",
    "    \"\\u0987\": 2,\n",
    "    \"\\u0988\": 3,\n",
    "    \"\\u0989\": 4,\n",
    "    \"\\u098A\": 5,\n",
    "    \"\\u098B\": 6,\n",
    "    \"\\u098F\": 7,\n",
    "    \"\\u0990\": 8,\n",
    "    \"\\u0993\": 9,\n",
    "    \"\\u0994\": 10,\n",
    "    \"\\u0995\": 11,\n",
    "    \"\\u0996\": 12,\n",
    "    \"\\u0997\": 13,\n",
    "    \"\\u0998\": 14,\n",
    "    \"\\u0999\": 15,\n",
    "    \"\\u099A\": 16,\n",
    "    \"\\u099B\": 17,\n",
    "    \"\\u099C\": 18,\n",
    "    \"\\u099D\": 19,\n",
    "    \"\\u099E\": 20,\n",
    "    \"\\u099F\": 21,\n",
    "    \"\\u09A0\": 22,\n",
    "    \"\\u09A1\": 23,\n",
    "    \"\\u09A2\": 24,\n",
    "    \"\\u09A3\": 25,\n",
    "    \"\\u09A4\": 26,\n",
    "    \"\\u09A5\": 27,\n",
    "    \"\\u09A6\": 28,\n",
    "    \"\\u09A7\": 29,\n",
    "    \"\\u09A8\": 30,\n",
    "    \"\\u09AA\": 31,\n",
    "    \"\\u09AB\": 32,\n",
    "    \"\\u09AC\": 33,\n",
    "    \"\\u09AD\": 34,\n",
    "    \"\\u09AE\": 35,\n",
    "    \"\\u09AF\": 36,\n",
    "    \"\\u09B0\": 37,\n",
    "    \"\\u09B2\": 38,\n",
    "    \"\\u09B6\": 39,\n",
    "    \"\\u09B7\": 40,\n",
    "    \"\\u09B8\": 41,\n",
    "    \"\\u09B9\": 42,\n",
    "    \"\\u09DC\": 43,\n",
    "    \"\\u09DD\": 44,\n",
    "    \"\\u09DF\": 45,\n",
    "    \"\\u09CE\": 46,\n",
    "    \"\\u0982\": 47,\n",
    "    \"\\u0983\": 48,\n",
    "    \"\\u0981\": 49,\n",
    "    \"\\u09BE\": 50,\n",
    "    \"\\u09BF\": 51,\n",
    "    \"\\u09C0\": 52,\n",
    "    \"\\u09C1\": 53,\n",
    "    \"\\u09C2\": 54,\n",
    "    \"\\u09C3\": 55,\n",
    "    \"\\u09C7\": 56,\n",
    "    \"\\u09C8\": 57,\n",
    "    \"\\u09CB\": 58,\n",
    "    \"\\u09CC\": 59,\n",
    "    \"\\u09CD\": 60,\n",
    "    \"\\u09BC\": 61,\n",
    "    \"\\u09D7\": 62\n",
    "}\n",
    "\n",
    "\n",
    "def bangla(item: str):\n",
    "    return [char_map.get(x, ord(x)) for x in item]\n",
    "\n",
    "\n",
    "\n",
    "\n",
    "def test_large():\n",
    "    words = ['অক্ষরণশীল', 'অনাবৃষ্টি', 'সায়ন', 'জেনারেল', 'ফ্লাড', 'সামনের', 'উপকথা', 'সড়কে', 'জলবিদ্যুৎ',\n",
    "             'দুই', 'বইমুখো', 'নিহত', 'হয়েছে', '১৩', 'ফোতো']\n",
    "    q=sorted(words, key=bangla)\n",
    "    print(q)\n",
    "   \n",
    "\n",
    "\n",
    "if __name__ == '__main__':\n",
    "   \n",
    "    e=test_large()"
   ]
  },
  {
   "cell_type": "code",
   "execution_count": null,
   "metadata": {},
   "outputs": [],
   "source": []
  },
  {
   "cell_type": "code",
   "execution_count": null,
   "metadata": {},
   "outputs": [],
   "source": []
  },
  {
   "cell_type": "code",
   "execution_count": null,
   "metadata": {},
   "outputs": [],
   "source": []
  },
  {
   "cell_type": "code",
   "execution_count": null,
   "metadata": {},
   "outputs": [],
   "source": []
  },
  {
   "cell_type": "code",
   "execution_count": null,
   "metadata": {},
   "outputs": [],
   "source": []
  }
 ],
 "metadata": {
  "kernelspec": {
   "display_name": "Python 3",
   "language": "python",
   "name": "python3"
  },
  "language_info": {
   "codemirror_mode": {
    "name": "ipython",
    "version": 3
   },
   "file_extension": ".py",
   "mimetype": "text/x-python",
   "name": "python",
   "nbconvert_exporter": "python",
   "pygments_lexer": "ipython3",
   "version": "3.7.1"
  }
 },
 "nbformat": 4,
 "nbformat_minor": 2
}
