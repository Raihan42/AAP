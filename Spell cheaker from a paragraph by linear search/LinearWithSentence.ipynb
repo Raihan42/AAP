{
 "cells": [
  {
   "cell_type": "code",
   "execution_count": 1,
   "metadata": {},
   "outputs": [
    {
     "name": "stdout",
     "output_type": "stream",
     "text": [
      "fff\n",
      "\u001b[31mfff\n",
      "546.4265731\n",
      "546.5642572\n",
      "0.1376841000000013\n",
      "[]\n",
      "0\n",
      "0.1376841000000013\n"
     ]
    },
    {
     "name": "stderr",
     "output_type": "stream",
     "text": [
      "C:\\ProgramData\\Anaconda3\\lib\\site-packages\\ipykernel_launcher.py:13: DeprecationWarning: time.clock has been deprecated in Python 3.3 and will be removed from Python 3.8: use time.perf_counter or time.process_time instead\n",
      "  del sys.path[0]\n",
      "C:\\ProgramData\\Anaconda3\\lib\\site-packages\\ipykernel_launcher.py:22: DeprecationWarning: time.clock has been deprecated in Python 3.3 and will be removed from Python 3.8: use time.perf_counter or time.process_time instead\n"
     ]
    }
   ],
   "source": [
    "from colorama import Fore\n",
    "import time \n",
    "import matplotlib.pyplot as plt\n",
    "count = 0\n",
    "total=0\n",
    "elements = list() \n",
    "times = list()\n",
    "\n",
    "from nltk.tokenize import word_tokenize\n",
    "text =input()\n",
    "wt=word_tokenize(text)\n",
    "for w1 in wt:\n",
    "    start = time.clock()\n",
    "    with open (\"b.txt\",'r',encoding='utf-8') as f:\n",
    "     \n",
    "        for line in f:\n",
    "            w= line.split()\n",
    "            for i in w:\n",
    "            \n",
    "                if i == w1:\n",
    "                    count+=1;\n",
    "        end = time.clock()      \n",
    "        if count<1:\n",
    "             print(Fore.RED + w1)\n",
    "        else:\n",
    "            print(w1)\n",
    "         \n",
    "\n",
    "        print(start)\n",
    "        print(end)\n",
    "        total=total+(end-start)\n",
    "        print(end-start)\n",
    "        \n",
    "        print(w)\n",
    "        print(count)\n",
    "print(total)\n",
    "    \n",
    "\n",
    " \n",
    "   \n",
    "\n",
    "    "
   ]
  },
  {
   "cell_type": "code",
   "execution_count": null,
   "metadata": {},
   "outputs": [],
   "source": []
  },
  {
   "cell_type": "code",
   "execution_count": null,
   "metadata": {},
   "outputs": [],
   "source": []
  }
 ],
 "metadata": {
  "kernelspec": {
   "display_name": "Python 3",
   "language": "python",
   "name": "python3"
  },
  "language_info": {
   "codemirror_mode": {
    "name": "ipython",
    "version": 3
   },
   "file_extension": ".py",
   "mimetype": "text/x-python",
   "name": "python",
   "nbconvert_exporter": "python",
   "pygments_lexer": "ipython3",
   "version": "3.7.1"
  }
 },
 "nbformat": 4,
 "nbformat_minor": 2
}
